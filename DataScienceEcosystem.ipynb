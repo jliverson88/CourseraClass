{
 "cells": [
  {
   "cell_type": "markdown",
   "id": "4c4c1d79-382e-42a4-9106-c66599801ee3",
   "metadata": {},
   "source": [
    "# Data Science Tools and Ecosystem "
   ]
  },
  {
   "cell_type": "markdown",
   "id": "7d165aea-8709-4ced-b0fb-cfab8275d51d",
   "metadata": {},
   "source": [
    "In this notebook, Data Science Tools and Ecosystem are summarized."
   ]
  },
  {
   "cell_type": "markdown",
   "id": "bf3519e3-1623-4a59-9c73-67540554ccef",
   "metadata": {},
   "source": [
    "**Objectives:**\n",
    "- Create a Jupyter Notebook\n",
    "- List popular languages for Data Science\n",
    "- List commonly used libraries for Data Science\n",
    "- List commonly used open source environment tools for Data Science\n",
    "- Demonstrate Jupyter Notebook markdown functionality"
   ]
  },
  {
   "cell_type": "markdown",
   "id": "505cfc7c-8419-44cc-a608-fc5dd5f91334",
   "metadata": {},
   "source": [
    "Some of the popular languages that Data Scientists use are:\n",
    "1. Python\n",
    "2. R\n",
    "3. SQL\n",
    "4. Scala\n",
    "5. Julia"
   ]
  },
  {
   "cell_type": "markdown",
   "id": "3743fc92-fc4f-4de9-bcfd-2e3ad7f710f4",
   "metadata": {},
   "source": [
    "Some of the commonly used libraries used by Data Scientists include:\n",
    "1. NumPy\n",
    "2. Pandas\n",
    "3. SciPy\n",
    "4. Matplotlib\n",
    "5. TensorFlow"
   ]
  },
  {
   "cell_type": "markdown",
   "id": "b52ef03f-8e33-48ad-a919-d5e9ae845dbf",
   "metadata": {},
   "source": [
    "| Data Science Tools |\n",
    "|---------------|\n",
    "|Jupyter Notebook|\n",
    "|JupyterLab|\n",
    "|RStudio|"
   ]
  },
  {
   "cell_type": "markdown",
   "id": "c714e691-1f28-4763-b9b9-f10c8f2ff50e",
   "metadata": {},
   "source": [
    "### Below are a few examples of evaluating arithmetic expressions in Python."
   ]
  },
  {
   "cell_type": "code",
   "execution_count": 14,
   "id": "923895d3-ea73-4fbd-bd59-58eea34d437b",
   "metadata": {},
   "outputs": [
    {
     "data": {
      "text/plain": [
       "17"
      ]
     },
     "execution_count": 14,
     "metadata": {},
     "output_type": "execute_result"
    }
   ],
   "source": [
    "#This a simple arithmetic expression to mutiply then add integers.\n",
    "\n",
    "(3*4)+5"
   ]
  },
  {
   "cell_type": "code",
   "execution_count": 20,
   "id": "1d265450-86d6-4168-9f11-d66645ac38af",
   "metadata": {},
   "outputs": [
    {
     "name": "stdout",
     "output_type": "stream",
     "text": [
      "200 minutes =  3.3333333333333335 hours\n"
     ]
    }
   ],
   "source": [
    "#This will convert 200 minutes to hours by diving by 60.\n",
    "\n",
    "Minutes=200\n",
    "Hours=Minutes/60\n",
    "print(Minutes, 'minutes = ',Hours, 'hours')"
   ]
  },
  {
   "cell_type": "markdown",
   "id": "02a68c90-0d45-4f6a-b24d-759df0d9a0ab",
   "metadata": {},
   "source": [
    "## Author\n",
    "John Iverson"
   ]
  },
  {
   "cell_type": "code",
   "execution_count": null,
   "id": "f02619a4-b626-4665-bb57-bf3e3c9f4a2a",
   "metadata": {},
   "outputs": [],
   "source": []
  }
 ],
 "metadata": {
  "kernelspec": {
   "display_name": "Python 3 (ipykernel)",
   "language": "python",
   "name": "python3"
  },
  "language_info": {
   "codemirror_mode": {
    "name": "ipython",
    "version": 3
   },
   "file_extension": ".py",
   "mimetype": "text/x-python",
   "name": "python",
   "nbconvert_exporter": "python",
   "pygments_lexer": "ipython3",
   "version": "3.12.4"
  }
 },
 "nbformat": 4,
 "nbformat_minor": 5
}
